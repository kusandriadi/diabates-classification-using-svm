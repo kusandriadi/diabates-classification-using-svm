{
  "nbformat": 4,
  "nbformat_minor": 0,
  "metadata": {
    "colab": {
      "provenance": [],
      "toc_visible": true,
      "authorship_tag": "ABX9TyMhWQaAS/yErN+XhIKIczai",
      "include_colab_link": true
    },
    "kernelspec": {
      "name": "python3",
      "display_name": "Python 3"
    },
    "language_info": {
      "name": "python"
    }
  },
  "cells": [
    {
      "cell_type": "markdown",
      "metadata": {
        "id": "view-in-github",
        "colab_type": "text"
      },
      "source": [
        "<a href=\"https://colab.research.google.com/github/kusandriadi/diabates-classification-using-svm/blob/main/klasifikasi_diabetes.ipynb\" target=\"_parent\"><img src=\"https://colab.research.google.com/assets/colab-badge.svg\" alt=\"Open In Colab\"/></a>"
      ]
    },
    {
      "cell_type": "code",
      "execution_count": 521,
      "metadata": {
        "id": "EnwdETlfJEIO"
      },
      "outputs": [],
      "source": [
        "import numpy as np\n",
        "import pandas as pd\n",
        "import seaborn as sns\n",
        "import matplotlib.pyplot as plt\n",
        "\n",
        "from google.colab import drive\n",
        "from sklearn.model_selection import train_test_split\n",
        "from sklearn.svm import SVC\n",
        "from sklearn.metrics import accuracy_score\n",
        "from sklearn.metrics import classification_report\n",
        "from sklearn.metrics import confusion_matrix\n",
        "from sklearn.preprocessing import StandardScaler\n",
        "from matplotlib import pyplot as plt\n",
        "\n",
        "%matplotlib inline"
      ]
    },
    {
      "cell_type": "code",
      "source": [
        "drive.mount('/content/drive')\n",
        "%cd /content/drive/My Drive/Colab Notebooks/\n",
        "df = pd.read_csv(\"diabetes2.csv\")\n",
        "\n",
        "# Map hasil diagnosa jika belum ada label nya, dalam kasus ini kita skip karena sudah ada kolom outcome.\n",
        "# df['Outcome'] = df['Outcome'].map({\n",
        "#     'X': 1,\n",
        "#     'XX': 0\n",
        "# })\n",
        "# labels = df['Outcome'].tolist()\n",
        "\n",
        "#Buat kolom baru darir hasil map di atas\n",
        "#df['Class'] = labels"
      ],
      "metadata": {
        "colab": {
          "base_uri": "https://localhost:8080/"
        },
        "id": "DUqBgClvJG1p",
        "outputId": "eb7cf050-44f7-4a67-9682-7e71476894cc"
      },
      "execution_count": 522,
      "outputs": [
        {
          "output_type": "stream",
          "name": "stdout",
          "text": [
            "Drive already mounted at /content/drive; to attempt to forcibly remount, call drive.mount(\"/content/drive\", force_remount=True).\n",
            "/content/drive/My Drive/Colab Notebooks\n"
          ]
        }
      ]
    },
    {
      "cell_type": "code",
      "source": [
        "#perbandingan diabetes dan non-diabetes\n",
        "df['Outcome'].value_counts()/float(len(df))\n",
        "\n",
        "#0 non-diabetes 65.1%\n",
        "#1 diabetes 34.8%\n",
        "#data tidak seimbang, tapi masih bisa ditolerir\n",
        "#source: https://developers.google.com/machine-learning/data-prep/construct/sampling-splitting/imbalanced-data"
      ],
      "metadata": {
        "colab": {
          "base_uri": "https://localhost:8080/"
        },
        "id": "qclGlt3r7FaR",
        "outputId": "72ac1d72-873e-4474-be04-43075e22b3dc"
      },
      "execution_count": 523,
      "outputs": [
        {
          "output_type": "execute_result",
          "data": {
            "text/plain": [
              "0    0.651042\n",
              "1    0.348958\n",
              "Name: Outcome, dtype: float64"
            ]
          },
          "metadata": {},
          "execution_count": 523
        }
      ]
    },
    {
      "cell_type": "code",
      "source": [
        "#apakah ada yang kosong?\n",
        "df.isnull().sum()"
      ],
      "metadata": {
        "colab": {
          "base_uri": "https://localhost:8080/"
        },
        "id": "4Y7MEfj27-5K",
        "outputId": "958ea0d7-22f6-4e25-8a84-768216a0a848"
      },
      "execution_count": 524,
      "outputs": [
        {
          "output_type": "execute_result",
          "data": {
            "text/plain": [
              "Pregnancies                 0\n",
              "Glucose                     0\n",
              "BloodPressure               0\n",
              "SkinThickness               0\n",
              "Insulin                     0\n",
              "BMI                         0\n",
              "DiabetesPedigreeFunction    0\n",
              "Age                         0\n",
              "Outcome                     0\n",
              "dtype: int64"
            ]
          },
          "metadata": {},
          "execution_count": 524
        }
      ]
    },
    {
      "cell_type": "code",
      "source": [
        "#filter hanya untuk yang umurnya antara 40 dan 60 tahun.\n",
        "#df=df[(df['Age'] >= 40) & (df['Age'] <= 60)]"
      ],
      "metadata": {
        "id": "Bg88FA052kUo"
      },
      "execution_count": 525,
      "outputs": []
    },
    {
      "cell_type": "code",
      "source": [
        "#perlihatkan dimensi data sebelum kolom hasil dihilangkan\n",
        "df.shape"
      ],
      "metadata": {
        "colab": {
          "base_uri": "https://localhost:8080/"
        },
        "id": "fdkDOpFF2a1_",
        "outputId": "661ebc66-4eda-443f-e33a-68cf5b6859f7"
      },
      "execution_count": 526,
      "outputs": [
        {
          "output_type": "execute_result",
          "data": {
            "text/plain": [
              "(768, 9)"
            ]
          },
          "metadata": {},
          "execution_count": 526
        }
      ]
    },
    {
      "cell_type": "code",
      "source": [
        "#Drop kolom 'Outcome' jika diperlukan\n",
        "y=df[\"Outcome\"]\n",
        "X=df.drop(columns=\"Outcome\",axis=1)\n",
        "\n",
        "#perlihatkan dimensi data setelah kolom hasil dihilangkan\n",
        "#df.shape"
      ],
      "metadata": {
        "id": "jwXCRpNt3TCV"
      },
      "execution_count": 527,
      "outputs": []
    },
    {
      "cell_type": "code",
      "source": [
        "#Tampilkan 5 baris\n",
        "X.head(5)"
      ],
      "metadata": {
        "colab": {
          "base_uri": "https://localhost:8080/",
          "height": 206
        },
        "id": "BVuhXa5U2c5_",
        "outputId": "1330c7ef-377e-4d89-8283-b903fd76ae1e"
      },
      "execution_count": 528,
      "outputs": [
        {
          "output_type": "execute_result",
          "data": {
            "text/plain": [
              "   Pregnancies  Glucose  BloodPressure  SkinThickness  Insulin   BMI  \\\n",
              "0            6      148             72             35        0  33.6   \n",
              "1            1       85             66             29        0  26.6   \n",
              "2            8      183             64              0        0  23.3   \n",
              "3            1       89             66             23       94  28.1   \n",
              "4            0      137             40             35      168  43.1   \n",
              "\n",
              "   DiabetesPedigreeFunction  Age  \n",
              "0                     0.627   50  \n",
              "1                     0.351   31  \n",
              "2                     0.672   32  \n",
              "3                     0.167   21  \n",
              "4                     2.288   33  "
            ],
            "text/html": [
              "\n",
              "  <div id=\"df-334e620c-6e7f-4b28-afdc-7d8946a691b0\" class=\"colab-df-container\">\n",
              "    <div>\n",
              "<style scoped>\n",
              "    .dataframe tbody tr th:only-of-type {\n",
              "        vertical-align: middle;\n",
              "    }\n",
              "\n",
              "    .dataframe tbody tr th {\n",
              "        vertical-align: top;\n",
              "    }\n",
              "\n",
              "    .dataframe thead th {\n",
              "        text-align: right;\n",
              "    }\n",
              "</style>\n",
              "<table border=\"1\" class=\"dataframe\">\n",
              "  <thead>\n",
              "    <tr style=\"text-align: right;\">\n",
              "      <th></th>\n",
              "      <th>Pregnancies</th>\n",
              "      <th>Glucose</th>\n",
              "      <th>BloodPressure</th>\n",
              "      <th>SkinThickness</th>\n",
              "      <th>Insulin</th>\n",
              "      <th>BMI</th>\n",
              "      <th>DiabetesPedigreeFunction</th>\n",
              "      <th>Age</th>\n",
              "    </tr>\n",
              "  </thead>\n",
              "  <tbody>\n",
              "    <tr>\n",
              "      <th>0</th>\n",
              "      <td>6</td>\n",
              "      <td>148</td>\n",
              "      <td>72</td>\n",
              "      <td>35</td>\n",
              "      <td>0</td>\n",
              "      <td>33.6</td>\n",
              "      <td>0.627</td>\n",
              "      <td>50</td>\n",
              "    </tr>\n",
              "    <tr>\n",
              "      <th>1</th>\n",
              "      <td>1</td>\n",
              "      <td>85</td>\n",
              "      <td>66</td>\n",
              "      <td>29</td>\n",
              "      <td>0</td>\n",
              "      <td>26.6</td>\n",
              "      <td>0.351</td>\n",
              "      <td>31</td>\n",
              "    </tr>\n",
              "    <tr>\n",
              "      <th>2</th>\n",
              "      <td>8</td>\n",
              "      <td>183</td>\n",
              "      <td>64</td>\n",
              "      <td>0</td>\n",
              "      <td>0</td>\n",
              "      <td>23.3</td>\n",
              "      <td>0.672</td>\n",
              "      <td>32</td>\n",
              "    </tr>\n",
              "    <tr>\n",
              "      <th>3</th>\n",
              "      <td>1</td>\n",
              "      <td>89</td>\n",
              "      <td>66</td>\n",
              "      <td>23</td>\n",
              "      <td>94</td>\n",
              "      <td>28.1</td>\n",
              "      <td>0.167</td>\n",
              "      <td>21</td>\n",
              "    </tr>\n",
              "    <tr>\n",
              "      <th>4</th>\n",
              "      <td>0</td>\n",
              "      <td>137</td>\n",
              "      <td>40</td>\n",
              "      <td>35</td>\n",
              "      <td>168</td>\n",
              "      <td>43.1</td>\n",
              "      <td>2.288</td>\n",
              "      <td>33</td>\n",
              "    </tr>\n",
              "  </tbody>\n",
              "</table>\n",
              "</div>\n",
              "    <div class=\"colab-df-buttons\">\n",
              "\n",
              "  <div class=\"colab-df-container\">\n",
              "    <button class=\"colab-df-convert\" onclick=\"convertToInteractive('df-334e620c-6e7f-4b28-afdc-7d8946a691b0')\"\n",
              "            title=\"Convert this dataframe to an interactive table.\"\n",
              "            style=\"display:none;\">\n",
              "\n",
              "  <svg xmlns=\"http://www.w3.org/2000/svg\" height=\"24px\" viewBox=\"0 -960 960 960\">\n",
              "    <path d=\"M120-120v-720h720v720H120Zm60-500h600v-160H180v160Zm220 220h160v-160H400v160Zm0 220h160v-160H400v160ZM180-400h160v-160H180v160Zm440 0h160v-160H620v160ZM180-180h160v-160H180v160Zm440 0h160v-160H620v160Z\"/>\n",
              "  </svg>\n",
              "    </button>\n",
              "\n",
              "  <style>\n",
              "    .colab-df-container {\n",
              "      display:flex;\n",
              "      gap: 12px;\n",
              "    }\n",
              "\n",
              "    .colab-df-convert {\n",
              "      background-color: #E8F0FE;\n",
              "      border: none;\n",
              "      border-radius: 50%;\n",
              "      cursor: pointer;\n",
              "      display: none;\n",
              "      fill: #1967D2;\n",
              "      height: 32px;\n",
              "      padding: 0 0 0 0;\n",
              "      width: 32px;\n",
              "    }\n",
              "\n",
              "    .colab-df-convert:hover {\n",
              "      background-color: #E2EBFA;\n",
              "      box-shadow: 0px 1px 2px rgba(60, 64, 67, 0.3), 0px 1px 3px 1px rgba(60, 64, 67, 0.15);\n",
              "      fill: #174EA6;\n",
              "    }\n",
              "\n",
              "    .colab-df-buttons div {\n",
              "      margin-bottom: 4px;\n",
              "    }\n",
              "\n",
              "    [theme=dark] .colab-df-convert {\n",
              "      background-color: #3B4455;\n",
              "      fill: #D2E3FC;\n",
              "    }\n",
              "\n",
              "    [theme=dark] .colab-df-convert:hover {\n",
              "      background-color: #434B5C;\n",
              "      box-shadow: 0px 1px 3px 1px rgba(0, 0, 0, 0.15);\n",
              "      filter: drop-shadow(0px 1px 2px rgba(0, 0, 0, 0.3));\n",
              "      fill: #FFFFFF;\n",
              "    }\n",
              "  </style>\n",
              "\n",
              "    <script>\n",
              "      const buttonEl =\n",
              "        document.querySelector('#df-334e620c-6e7f-4b28-afdc-7d8946a691b0 button.colab-df-convert');\n",
              "      buttonEl.style.display =\n",
              "        google.colab.kernel.accessAllowed ? 'block' : 'none';\n",
              "\n",
              "      async function convertToInteractive(key) {\n",
              "        const element = document.querySelector('#df-334e620c-6e7f-4b28-afdc-7d8946a691b0');\n",
              "        const dataTable =\n",
              "          await google.colab.kernel.invokeFunction('convertToInteractive',\n",
              "                                                    [key], {});\n",
              "        if (!dataTable) return;\n",
              "\n",
              "        const docLinkHtml = 'Like what you see? Visit the ' +\n",
              "          '<a target=\"_blank\" href=https://colab.research.google.com/notebooks/data_table.ipynb>data table notebook</a>'\n",
              "          + ' to learn more about interactive tables.';\n",
              "        element.innerHTML = '';\n",
              "        dataTable['output_type'] = 'display_data';\n",
              "        await google.colab.output.renderOutput(dataTable, element);\n",
              "        const docLink = document.createElement('div');\n",
              "        docLink.innerHTML = docLinkHtml;\n",
              "        element.appendChild(docLink);\n",
              "      }\n",
              "    </script>\n",
              "  </div>\n",
              "\n",
              "\n",
              "<div id=\"df-27950c38-2c39-4229-8c45-b13e11153358\">\n",
              "  <button class=\"colab-df-quickchart\" onclick=\"quickchart('df-27950c38-2c39-4229-8c45-b13e11153358')\"\n",
              "            title=\"Suggest charts.\"\n",
              "            style=\"display:none;\">\n",
              "\n",
              "<svg xmlns=\"http://www.w3.org/2000/svg\" height=\"24px\"viewBox=\"0 0 24 24\"\n",
              "     width=\"24px\">\n",
              "    <g>\n",
              "        <path d=\"M19 3H5c-1.1 0-2 .9-2 2v14c0 1.1.9 2 2 2h14c1.1 0 2-.9 2-2V5c0-1.1-.9-2-2-2zM9 17H7v-7h2v7zm4 0h-2V7h2v10zm4 0h-2v-4h2v4z\"/>\n",
              "    </g>\n",
              "</svg>\n",
              "  </button>\n",
              "\n",
              "<style>\n",
              "  .colab-df-quickchart {\n",
              "      --bg-color: #E8F0FE;\n",
              "      --fill-color: #1967D2;\n",
              "      --hover-bg-color: #E2EBFA;\n",
              "      --hover-fill-color: #174EA6;\n",
              "      --disabled-fill-color: #AAA;\n",
              "      --disabled-bg-color: #DDD;\n",
              "  }\n",
              "\n",
              "  [theme=dark] .colab-df-quickchart {\n",
              "      --bg-color: #3B4455;\n",
              "      --fill-color: #D2E3FC;\n",
              "      --hover-bg-color: #434B5C;\n",
              "      --hover-fill-color: #FFFFFF;\n",
              "      --disabled-bg-color: #3B4455;\n",
              "      --disabled-fill-color: #666;\n",
              "  }\n",
              "\n",
              "  .colab-df-quickchart {\n",
              "    background-color: var(--bg-color);\n",
              "    border: none;\n",
              "    border-radius: 50%;\n",
              "    cursor: pointer;\n",
              "    display: none;\n",
              "    fill: var(--fill-color);\n",
              "    height: 32px;\n",
              "    padding: 0;\n",
              "    width: 32px;\n",
              "  }\n",
              "\n",
              "  .colab-df-quickchart:hover {\n",
              "    background-color: var(--hover-bg-color);\n",
              "    box-shadow: 0 1px 2px rgba(60, 64, 67, 0.3), 0 1px 3px 1px rgba(60, 64, 67, 0.15);\n",
              "    fill: var(--button-hover-fill-color);\n",
              "  }\n",
              "\n",
              "  .colab-df-quickchart-complete:disabled,\n",
              "  .colab-df-quickchart-complete:disabled:hover {\n",
              "    background-color: var(--disabled-bg-color);\n",
              "    fill: var(--disabled-fill-color);\n",
              "    box-shadow: none;\n",
              "  }\n",
              "\n",
              "  .colab-df-spinner {\n",
              "    border: 2px solid var(--fill-color);\n",
              "    border-color: transparent;\n",
              "    border-bottom-color: var(--fill-color);\n",
              "    animation:\n",
              "      spin 1s steps(1) infinite;\n",
              "  }\n",
              "\n",
              "  @keyframes spin {\n",
              "    0% {\n",
              "      border-color: transparent;\n",
              "      border-bottom-color: var(--fill-color);\n",
              "      border-left-color: var(--fill-color);\n",
              "    }\n",
              "    20% {\n",
              "      border-color: transparent;\n",
              "      border-left-color: var(--fill-color);\n",
              "      border-top-color: var(--fill-color);\n",
              "    }\n",
              "    30% {\n",
              "      border-color: transparent;\n",
              "      border-left-color: var(--fill-color);\n",
              "      border-top-color: var(--fill-color);\n",
              "      border-right-color: var(--fill-color);\n",
              "    }\n",
              "    40% {\n",
              "      border-color: transparent;\n",
              "      border-right-color: var(--fill-color);\n",
              "      border-top-color: var(--fill-color);\n",
              "    }\n",
              "    60% {\n",
              "      border-color: transparent;\n",
              "      border-right-color: var(--fill-color);\n",
              "    }\n",
              "    80% {\n",
              "      border-color: transparent;\n",
              "      border-right-color: var(--fill-color);\n",
              "      border-bottom-color: var(--fill-color);\n",
              "    }\n",
              "    90% {\n",
              "      border-color: transparent;\n",
              "      border-bottom-color: var(--fill-color);\n",
              "    }\n",
              "  }\n",
              "</style>\n",
              "\n",
              "  <script>\n",
              "    async function quickchart(key) {\n",
              "      const quickchartButtonEl =\n",
              "        document.querySelector('#' + key + ' button');\n",
              "      quickchartButtonEl.disabled = true;  // To prevent multiple clicks.\n",
              "      quickchartButtonEl.classList.add('colab-df-spinner');\n",
              "      try {\n",
              "        const charts = await google.colab.kernel.invokeFunction(\n",
              "            'suggestCharts', [key], {});\n",
              "      } catch (error) {\n",
              "        console.error('Error during call to suggestCharts:', error);\n",
              "      }\n",
              "      quickchartButtonEl.classList.remove('colab-df-spinner');\n",
              "      quickchartButtonEl.classList.add('colab-df-quickchart-complete');\n",
              "    }\n",
              "    (() => {\n",
              "      let quickchartButtonEl =\n",
              "        document.querySelector('#df-27950c38-2c39-4229-8c45-b13e11153358 button');\n",
              "      quickchartButtonEl.style.display =\n",
              "        google.colab.kernel.accessAllowed ? 'block' : 'none';\n",
              "    })();\n",
              "  </script>\n",
              "</div>\n",
              "    </div>\n",
              "  </div>\n"
            ]
          },
          "metadata": {},
          "execution_count": 528
        }
      ]
    },
    {
      "cell_type": "code",
      "source": [
        "#split X dan y (test size 20%)\n",
        "X_train,X_test,y_train,y_test=train_test_split(X,y,test_size=0.2,stratify=y, random_state=0)"
      ],
      "metadata": {
        "id": "u3LjKHTcye35"
      },
      "execution_count": 529,
      "outputs": []
    },
    {
      "cell_type": "code",
      "source": [
        "X_train.shape, X_test.shape"
      ],
      "metadata": {
        "colab": {
          "base_uri": "https://localhost:8080/"
        },
        "id": "5VuZyATu-JfF",
        "outputId": "d35985e2-623b-45f2-efb9-d5b2f37316de"
      },
      "execution_count": 530,
      "outputs": [
        {
          "output_type": "execute_result",
          "data": {
            "text/plain": [
              "((614, 8), (154, 8))"
            ]
          },
          "metadata": {},
          "execution_count": 530
        }
      ]
    },
    {
      "cell_type": "code",
      "source": [
        "cols = X_train.columns"
      ],
      "metadata": {
        "id": "CaOt8Pln-ag7"
      },
      "execution_count": 531,
      "outputs": []
    },
    {
      "cell_type": "code",
      "source": [
        "scaler = StandardScaler()\n",
        "\n",
        "X_train = scaler.fit_transform(X_train)\n",
        "X_test = scaler.transform(X_test)\n",
        "\n",
        "X_train = pd.DataFrame(X_train, columns=[cols])\n",
        "X_test = pd.DataFrame(X_test, columns=[cols])\n",
        "\n",
        "X_train.describe()"
      ],
      "metadata": {
        "colab": {
          "base_uri": "https://localhost:8080/",
          "height": 372
        },
        "id": "xAJZgJtq-c3w",
        "outputId": "a09d8879-148b-4525-d142-efcb226c806b"
      },
      "execution_count": 532,
      "outputs": [
        {
          "output_type": "execute_result",
          "data": {
            "text/plain": [
              "        Pregnancies       Glucose BloodPressure SkinThickness       Insulin  \\\n",
              "count  6.140000e+02  6.140000e+02  6.140000e+02  6.140000e+02  6.140000e+02   \n",
              "mean  -3.905671e-17  1.591199e-16  1.518872e-16  4.339634e-17  6.075488e-17   \n",
              "std    1.000815e+00  1.000815e+00  1.000815e+00  1.000815e+00  1.000815e+00   \n",
              "min   -1.161669e+00 -3.784484e+00 -3.599424e+00 -1.263502e+00 -6.596596e-01   \n",
              "25%   -8.699453e-01 -6.484957e-01 -2.866320e-01 -1.263502e+00 -6.596596e-01   \n",
              "50%   -2.864975e-01 -1.153778e-01  1.274669e-01  1.483650e-01 -6.596596e-01   \n",
              "75%    5.886740e-01  5.980594e-01  5.415659e-01  7.622203e-01  4.162136e-01   \n",
              "max    3.797636e+00  2.456132e+00  2.715586e+00  4.813665e+00  6.800904e+00   \n",
              "\n",
              "              BMI DiabetesPedigreeFunction           Age  \n",
              "count  614.000000             6.140000e+02  6.140000e+02  \n",
              "mean     0.000000             5.207561e-17  2.256610e-16  \n",
              "std      1.000815             1.000815e+00  1.000815e+00  \n",
              "min     -4.150009            -1.170105e+00 -1.057582e+00  \n",
              "25%     -0.603974            -6.916455e-01 -8.049477e-01  \n",
              "50%      0.000021            -3.024397e-01 -2.996781e-01  \n",
              "75%      0.565049             4.101288e-01  6.266495e-01  \n",
              "max      4.565704             5.683428e+00  3.995113e+00  "
            ],
            "text/html": [
              "\n",
              "  <div id=\"df-adf0e931-9df9-43cd-926a-9cbe3563b719\" class=\"colab-df-container\">\n",
              "    <div>\n",
              "<style scoped>\n",
              "    .dataframe tbody tr th:only-of-type {\n",
              "        vertical-align: middle;\n",
              "    }\n",
              "\n",
              "    .dataframe tbody tr th {\n",
              "        vertical-align: top;\n",
              "    }\n",
              "\n",
              "    .dataframe thead tr th {\n",
              "        text-align: left;\n",
              "    }\n",
              "</style>\n",
              "<table border=\"1\" class=\"dataframe\">\n",
              "  <thead>\n",
              "    <tr>\n",
              "      <th></th>\n",
              "      <th>Pregnancies</th>\n",
              "      <th>Glucose</th>\n",
              "      <th>BloodPressure</th>\n",
              "      <th>SkinThickness</th>\n",
              "      <th>Insulin</th>\n",
              "      <th>BMI</th>\n",
              "      <th>DiabetesPedigreeFunction</th>\n",
              "      <th>Age</th>\n",
              "    </tr>\n",
              "  </thead>\n",
              "  <tbody>\n",
              "    <tr>\n",
              "      <th>count</th>\n",
              "      <td>6.140000e+02</td>\n",
              "      <td>6.140000e+02</td>\n",
              "      <td>6.140000e+02</td>\n",
              "      <td>6.140000e+02</td>\n",
              "      <td>6.140000e+02</td>\n",
              "      <td>614.000000</td>\n",
              "      <td>6.140000e+02</td>\n",
              "      <td>6.140000e+02</td>\n",
              "    </tr>\n",
              "    <tr>\n",
              "      <th>mean</th>\n",
              "      <td>-3.905671e-17</td>\n",
              "      <td>1.591199e-16</td>\n",
              "      <td>1.518872e-16</td>\n",
              "      <td>4.339634e-17</td>\n",
              "      <td>6.075488e-17</td>\n",
              "      <td>0.000000</td>\n",
              "      <td>5.207561e-17</td>\n",
              "      <td>2.256610e-16</td>\n",
              "    </tr>\n",
              "    <tr>\n",
              "      <th>std</th>\n",
              "      <td>1.000815e+00</td>\n",
              "      <td>1.000815e+00</td>\n",
              "      <td>1.000815e+00</td>\n",
              "      <td>1.000815e+00</td>\n",
              "      <td>1.000815e+00</td>\n",
              "      <td>1.000815</td>\n",
              "      <td>1.000815e+00</td>\n",
              "      <td>1.000815e+00</td>\n",
              "    </tr>\n",
              "    <tr>\n",
              "      <th>min</th>\n",
              "      <td>-1.161669e+00</td>\n",
              "      <td>-3.784484e+00</td>\n",
              "      <td>-3.599424e+00</td>\n",
              "      <td>-1.263502e+00</td>\n",
              "      <td>-6.596596e-01</td>\n",
              "      <td>-4.150009</td>\n",
              "      <td>-1.170105e+00</td>\n",
              "      <td>-1.057582e+00</td>\n",
              "    </tr>\n",
              "    <tr>\n",
              "      <th>25%</th>\n",
              "      <td>-8.699453e-01</td>\n",
              "      <td>-6.484957e-01</td>\n",
              "      <td>-2.866320e-01</td>\n",
              "      <td>-1.263502e+00</td>\n",
              "      <td>-6.596596e-01</td>\n",
              "      <td>-0.603974</td>\n",
              "      <td>-6.916455e-01</td>\n",
              "      <td>-8.049477e-01</td>\n",
              "    </tr>\n",
              "    <tr>\n",
              "      <th>50%</th>\n",
              "      <td>-2.864975e-01</td>\n",
              "      <td>-1.153778e-01</td>\n",
              "      <td>1.274669e-01</td>\n",
              "      <td>1.483650e-01</td>\n",
              "      <td>-6.596596e-01</td>\n",
              "      <td>0.000021</td>\n",
              "      <td>-3.024397e-01</td>\n",
              "      <td>-2.996781e-01</td>\n",
              "    </tr>\n",
              "    <tr>\n",
              "      <th>75%</th>\n",
              "      <td>5.886740e-01</td>\n",
              "      <td>5.980594e-01</td>\n",
              "      <td>5.415659e-01</td>\n",
              "      <td>7.622203e-01</td>\n",
              "      <td>4.162136e-01</td>\n",
              "      <td>0.565049</td>\n",
              "      <td>4.101288e-01</td>\n",
              "      <td>6.266495e-01</td>\n",
              "    </tr>\n",
              "    <tr>\n",
              "      <th>max</th>\n",
              "      <td>3.797636e+00</td>\n",
              "      <td>2.456132e+00</td>\n",
              "      <td>2.715586e+00</td>\n",
              "      <td>4.813665e+00</td>\n",
              "      <td>6.800904e+00</td>\n",
              "      <td>4.565704</td>\n",
              "      <td>5.683428e+00</td>\n",
              "      <td>3.995113e+00</td>\n",
              "    </tr>\n",
              "  </tbody>\n",
              "</table>\n",
              "</div>\n",
              "    <div class=\"colab-df-buttons\">\n",
              "\n",
              "  <div class=\"colab-df-container\">\n",
              "    <button class=\"colab-df-convert\" onclick=\"convertToInteractive('df-adf0e931-9df9-43cd-926a-9cbe3563b719')\"\n",
              "            title=\"Convert this dataframe to an interactive table.\"\n",
              "            style=\"display:none;\">\n",
              "\n",
              "  <svg xmlns=\"http://www.w3.org/2000/svg\" height=\"24px\" viewBox=\"0 -960 960 960\">\n",
              "    <path d=\"M120-120v-720h720v720H120Zm60-500h600v-160H180v160Zm220 220h160v-160H400v160Zm0 220h160v-160H400v160ZM180-400h160v-160H180v160Zm440 0h160v-160H620v160ZM180-180h160v-160H180v160Zm440 0h160v-160H620v160Z\"/>\n",
              "  </svg>\n",
              "    </button>\n",
              "\n",
              "  <style>\n",
              "    .colab-df-container {\n",
              "      display:flex;\n",
              "      gap: 12px;\n",
              "    }\n",
              "\n",
              "    .colab-df-convert {\n",
              "      background-color: #E8F0FE;\n",
              "      border: none;\n",
              "      border-radius: 50%;\n",
              "      cursor: pointer;\n",
              "      display: none;\n",
              "      fill: #1967D2;\n",
              "      height: 32px;\n",
              "      padding: 0 0 0 0;\n",
              "      width: 32px;\n",
              "    }\n",
              "\n",
              "    .colab-df-convert:hover {\n",
              "      background-color: #E2EBFA;\n",
              "      box-shadow: 0px 1px 2px rgba(60, 64, 67, 0.3), 0px 1px 3px 1px rgba(60, 64, 67, 0.15);\n",
              "      fill: #174EA6;\n",
              "    }\n",
              "\n",
              "    .colab-df-buttons div {\n",
              "      margin-bottom: 4px;\n",
              "    }\n",
              "\n",
              "    [theme=dark] .colab-df-convert {\n",
              "      background-color: #3B4455;\n",
              "      fill: #D2E3FC;\n",
              "    }\n",
              "\n",
              "    [theme=dark] .colab-df-convert:hover {\n",
              "      background-color: #434B5C;\n",
              "      box-shadow: 0px 1px 3px 1px rgba(0, 0, 0, 0.15);\n",
              "      filter: drop-shadow(0px 1px 2px rgba(0, 0, 0, 0.3));\n",
              "      fill: #FFFFFF;\n",
              "    }\n",
              "  </style>\n",
              "\n",
              "    <script>\n",
              "      const buttonEl =\n",
              "        document.querySelector('#df-adf0e931-9df9-43cd-926a-9cbe3563b719 button.colab-df-convert');\n",
              "      buttonEl.style.display =\n",
              "        google.colab.kernel.accessAllowed ? 'block' : 'none';\n",
              "\n",
              "      async function convertToInteractive(key) {\n",
              "        const element = document.querySelector('#df-adf0e931-9df9-43cd-926a-9cbe3563b719');\n",
              "        const dataTable =\n",
              "          await google.colab.kernel.invokeFunction('convertToInteractive',\n",
              "                                                    [key], {});\n",
              "        if (!dataTable) return;\n",
              "\n",
              "        const docLinkHtml = 'Like what you see? Visit the ' +\n",
              "          '<a target=\"_blank\" href=https://colab.research.google.com/notebooks/data_table.ipynb>data table notebook</a>'\n",
              "          + ' to learn more about interactive tables.';\n",
              "        element.innerHTML = '';\n",
              "        dataTable['output_type'] = 'display_data';\n",
              "        await google.colab.output.renderOutput(dataTable, element);\n",
              "        const docLink = document.createElement('div');\n",
              "        docLink.innerHTML = docLinkHtml;\n",
              "        element.appendChild(docLink);\n",
              "      }\n",
              "    </script>\n",
              "  </div>\n",
              "\n",
              "\n",
              "<div id=\"df-0f9f5411-b192-4f5d-8eb5-409352eb4f82\">\n",
              "  <button class=\"colab-df-quickchart\" onclick=\"quickchart('df-0f9f5411-b192-4f5d-8eb5-409352eb4f82')\"\n",
              "            title=\"Suggest charts.\"\n",
              "            style=\"display:none;\">\n",
              "\n",
              "<svg xmlns=\"http://www.w3.org/2000/svg\" height=\"24px\"viewBox=\"0 0 24 24\"\n",
              "     width=\"24px\">\n",
              "    <g>\n",
              "        <path d=\"M19 3H5c-1.1 0-2 .9-2 2v14c0 1.1.9 2 2 2h14c1.1 0 2-.9 2-2V5c0-1.1-.9-2-2-2zM9 17H7v-7h2v7zm4 0h-2V7h2v10zm4 0h-2v-4h2v4z\"/>\n",
              "    </g>\n",
              "</svg>\n",
              "  </button>\n",
              "\n",
              "<style>\n",
              "  .colab-df-quickchart {\n",
              "      --bg-color: #E8F0FE;\n",
              "      --fill-color: #1967D2;\n",
              "      --hover-bg-color: #E2EBFA;\n",
              "      --hover-fill-color: #174EA6;\n",
              "      --disabled-fill-color: #AAA;\n",
              "      --disabled-bg-color: #DDD;\n",
              "  }\n",
              "\n",
              "  [theme=dark] .colab-df-quickchart {\n",
              "      --bg-color: #3B4455;\n",
              "      --fill-color: #D2E3FC;\n",
              "      --hover-bg-color: #434B5C;\n",
              "      --hover-fill-color: #FFFFFF;\n",
              "      --disabled-bg-color: #3B4455;\n",
              "      --disabled-fill-color: #666;\n",
              "  }\n",
              "\n",
              "  .colab-df-quickchart {\n",
              "    background-color: var(--bg-color);\n",
              "    border: none;\n",
              "    border-radius: 50%;\n",
              "    cursor: pointer;\n",
              "    display: none;\n",
              "    fill: var(--fill-color);\n",
              "    height: 32px;\n",
              "    padding: 0;\n",
              "    width: 32px;\n",
              "  }\n",
              "\n",
              "  .colab-df-quickchart:hover {\n",
              "    background-color: var(--hover-bg-color);\n",
              "    box-shadow: 0 1px 2px rgba(60, 64, 67, 0.3), 0 1px 3px 1px rgba(60, 64, 67, 0.15);\n",
              "    fill: var(--button-hover-fill-color);\n",
              "  }\n",
              "\n",
              "  .colab-df-quickchart-complete:disabled,\n",
              "  .colab-df-quickchart-complete:disabled:hover {\n",
              "    background-color: var(--disabled-bg-color);\n",
              "    fill: var(--disabled-fill-color);\n",
              "    box-shadow: none;\n",
              "  }\n",
              "\n",
              "  .colab-df-spinner {\n",
              "    border: 2px solid var(--fill-color);\n",
              "    border-color: transparent;\n",
              "    border-bottom-color: var(--fill-color);\n",
              "    animation:\n",
              "      spin 1s steps(1) infinite;\n",
              "  }\n",
              "\n",
              "  @keyframes spin {\n",
              "    0% {\n",
              "      border-color: transparent;\n",
              "      border-bottom-color: var(--fill-color);\n",
              "      border-left-color: var(--fill-color);\n",
              "    }\n",
              "    20% {\n",
              "      border-color: transparent;\n",
              "      border-left-color: var(--fill-color);\n",
              "      border-top-color: var(--fill-color);\n",
              "    }\n",
              "    30% {\n",
              "      border-color: transparent;\n",
              "      border-left-color: var(--fill-color);\n",
              "      border-top-color: var(--fill-color);\n",
              "      border-right-color: var(--fill-color);\n",
              "    }\n",
              "    40% {\n",
              "      border-color: transparent;\n",
              "      border-right-color: var(--fill-color);\n",
              "      border-top-color: var(--fill-color);\n",
              "    }\n",
              "    60% {\n",
              "      border-color: transparent;\n",
              "      border-right-color: var(--fill-color);\n",
              "    }\n",
              "    80% {\n",
              "      border-color: transparent;\n",
              "      border-right-color: var(--fill-color);\n",
              "      border-bottom-color: var(--fill-color);\n",
              "    }\n",
              "    90% {\n",
              "      border-color: transparent;\n",
              "      border-bottom-color: var(--fill-color);\n",
              "    }\n",
              "  }\n",
              "</style>\n",
              "\n",
              "  <script>\n",
              "    async function quickchart(key) {\n",
              "      const quickchartButtonEl =\n",
              "        document.querySelector('#' + key + ' button');\n",
              "      quickchartButtonEl.disabled = true;  // To prevent multiple clicks.\n",
              "      quickchartButtonEl.classList.add('colab-df-spinner');\n",
              "      try {\n",
              "        const charts = await google.colab.kernel.invokeFunction(\n",
              "            'suggestCharts', [key], {});\n",
              "      } catch (error) {\n",
              "        console.error('Error during call to suggestCharts:', error);\n",
              "      }\n",
              "      quickchartButtonEl.classList.remove('colab-df-spinner');\n",
              "      quickchartButtonEl.classList.add('colab-df-quickchart-complete');\n",
              "    }\n",
              "    (() => {\n",
              "      let quickchartButtonEl =\n",
              "        document.querySelector('#df-0f9f5411-b192-4f5d-8eb5-409352eb4f82 button');\n",
              "      quickchartButtonEl.style.display =\n",
              "        google.colab.kernel.accessAllowed ? 'block' : 'none';\n",
              "    })();\n",
              "  </script>\n",
              "</div>\n",
              "    </div>\n",
              "  </div>\n"
            ]
          },
          "metadata": {},
          "execution_count": 532
        }
      ]
    },
    {
      "cell_type": "code",
      "source": [
        "# draw boxplots to visualize outliers\n",
        "\n",
        "plt.figure(figsize=(24,20))\n",
        "\n",
        "\n",
        "plt.subplot(4, 2, 1)\n",
        "fig = df.boxplot(column='Pregnancies')\n",
        "fig.set_title('')\n",
        "fig.set_ylabel('Pregnancies')\n",
        "\n",
        "\n",
        "plt.subplot(4, 2, 2)\n",
        "fig = df.boxplot(column='Glucose')\n",
        "fig.set_title('')\n",
        "fig.set_ylabel('Glucose')\n",
        "\n",
        "\n",
        "plt.subplot(4, 2, 3)\n",
        "fig = df.boxplot(column='BloodPressure')\n",
        "fig.set_title('')\n",
        "fig.set_ylabel('BloodPressure')\n",
        "\n",
        "\n",
        "plt.subplot(4, 2, 4)\n",
        "fig = df.boxplot(column='SkinThickness')\n",
        "fig.set_title('')\n",
        "fig.set_ylabel('SkinThickness')\n",
        "\n",
        "\n",
        "plt.subplot(4, 2, 5)\n",
        "fig = df.boxplot(column='Insulin')\n",
        "fig.set_title('')\n",
        "fig.set_ylabel('Insulin')\n",
        "\n",
        "\n",
        "plt.subplot(4, 2, 6)\n",
        "fig = df.boxplot(column='BMI')\n",
        "fig.set_title('')\n",
        "fig.set_ylabel('BMI')\n",
        "\n",
        "\n",
        "plt.subplot(4, 2, 7)\n",
        "fig = df.boxplot(column='DiabetesPedigreeFunction')\n",
        "fig.set_title('')\n",
        "fig.set_ylabel('DiabetesPedigreeFunction')\n",
        "\n",
        "\n",
        "plt.subplot(4, 2, 8)\n",
        "fig = df.boxplot(column='Age')\n",
        "fig.set_title('')\n",
        "fig.set_ylabel('Age')"
      ],
      "metadata": {
        "colab": {
          "base_uri": "https://localhost:8080/",
          "height": 812
        },
        "id": "pji7XWQnXQzp",
        "outputId": "3dadd09e-08f6-4164-d7ff-4bb049c75b75"
      },
      "execution_count": 533,
      "outputs": [
        {
          "output_type": "execute_result",
          "data": {
            "text/plain": [
              "Text(0, 0.5, 'Age')"
            ]
          },
          "metadata": {},
          "execution_count": 533
        },
        {
          "output_type": "display_data",
          "data": {
            "text/plain": [
              "<Figure size 2400x2000 with 8 Axes>"
            ],
            "image/png": "[encoded data removed]"
          },
          "metadata": {}
        }
      ]
    },
    {
      "cell_type": "markdown",
      "source": [
        "# **RUN SVM - Hyperparameter**"
      ],
      "metadata": {
        "id": "LzFikKg5Z562"
      }
    },
    {
      "cell_type": "code",
      "source": [
        "# instantiate classifier with rbf kernel and C=100\n",
        "svc=SVC(C=100.0)\n",
        "\n",
        "\n",
        "# fit classifier to training set\n",
        "svc.fit(X_train,y_train)\n",
        "\n",
        "\n",
        "# make predictions on test set\n",
        "y_pred_hyperparameter=svc.predict(X_test)\n",
        "\n",
        "\n",
        "# compute and print accuracy score\n",
        "print('Model accuracy score with rbf kernel and C=100.0 : {0:0.4f}'. format(accuracy_score(y_test, y_pred_hyperparameter)))"
      ],
      "metadata": {
        "colab": {
          "base_uri": "https://localhost:8080/"
        },
        "id": "V9VnVcRC_IX9",
        "outputId": "1271e3ba-0997-43d8-f2b8-d108e651df8c"
      },
      "execution_count": 534,
      "outputs": [
        {
          "output_type": "stream",
          "name": "stdout",
          "text": [
            "Model accuracy score with rbf kernel and C=100.0 : 0.7792\n"
          ]
        }
      ]
    },
    {
      "cell_type": "markdown",
      "source": [
        "# **RUN SVM with Linear Kernel**"
      ],
      "metadata": {
        "id": "TggOk49ZZudc"
      }
    },
    {
      "cell_type": "code",
      "source": [
        "# instantiate classifier with linear kernel and C=1.0\n",
        "linear_svc=SVC(kernel='linear', C=1.0)\n",
        "\n",
        "\n",
        "# fit classifier to training set\n",
        "linear_svc.fit(X_train,y_train)\n",
        "\n",
        "\n",
        "# make predictions on test set\n",
        "y_pred_linier=linear_svc.predict(X_test)\n",
        "\n",
        "\n",
        "# compute and print accuracy score\n",
        "print('Model accuracy score with linear kernel and C=1.0 : {0:0.4f}'. format(accuracy_score(y_test, y_pred_linier)))\n",
        "\n",
        "y_pred_train = linear_svc.predict(X_train)\n",
        "print('Training-set accuracy score: {0:0.4f}'. format(accuracy_score(y_train, y_pred_train)))\n",
        "\n",
        "print('Training set score: {:.4f}'.format(linear_svc.score(X_train, y_train)))\n",
        "\n",
        "print('Test set score: {:.4f}'.format(linear_svc.score(X_test, y_test)))"
      ],
      "metadata": {
        "colab": {
          "base_uri": "https://localhost:8080/"
        },
        "id": "hhEJA-LKY4fj",
        "outputId": "bd6188a8-55f3-4575-ab81-8be3ccdc4d48"
      },
      "execution_count": 541,
      "outputs": [
        {
          "output_type": "stream",
          "name": "stdout",
          "text": [
            "Model accuracy score with linear kernel and C=1.0 : 0.7792\n",
            "Training-set accuracy score: 0.7801\n",
            "Training set score: 0.7801\n",
            "Test set score: 0.7792\n"
          ]
        }
      ]
    },
    {
      "cell_type": "markdown",
      "source": [],
      "metadata": {
        "id": "YIu_JZJkiic6"
      }
    },
    {
      "cell_type": "markdown",
      "source": [
        "# **RUN SVM with Polynomial Kernel**"
      ],
      "metadata": {
        "id": "quWiN1ZLd9gN"
      }
    },
    {
      "cell_type": "code",
      "source": [
        "# instantiate classifier with polynomial kernel and C=100.0\n",
        "poly_svc100=SVC(kernel='poly', C=100.0)\n",
        "\n",
        "\n",
        "# fit classifier to training set\n",
        "poly_svc100.fit(X_train, y_train)\n",
        "\n",
        "\n",
        "# make predictions on test set\n",
        "y_pred_poly=poly_svc100.predict(X_test)\n",
        "\n",
        "\n",
        "# compute and print accuracy score\n",
        "print('Model accuracy score with polynomial kernel and C=1.0 : {0:0.4f}'. format(accuracy_score(y_test, y_pred_poly)))"
      ],
      "metadata": {
        "colab": {
          "base_uri": "https://localhost:8080/"
        },
        "id": "XlJvCE3seJfY",
        "outputId": "724b55bc-4b16-4fb7-dfb8-1b2844efec13"
      },
      "execution_count": 548,
      "outputs": [
        {
          "output_type": "stream",
          "name": "stdout",
          "text": [
            "Model accuracy score with polynomial kernel and C=1.0 : 0.7727\n"
          ]
        }
      ]
    },
    {
      "cell_type": "markdown",
      "source": [],
      "metadata": {
        "id": "twu-tjtZjC1z"
      }
    },
    {
      "cell_type": "markdown",
      "source": [
        "# **RUN SVM with Sigmoid Kernel**"
      ],
      "metadata": {
        "id": "P460QZtreAom"
      }
    },
    {
      "cell_type": "code",
      "source": [
        "# instantiate classifier with sigmoid kernel and C=1.0\n",
        "sigmoid_svc=SVC(kernel='sigmoid', C=1.0)\n",
        "\n",
        "\n",
        "# fit classifier to training set\n",
        "sigmoid_svc.fit(X_train,y_train)\n",
        "\n",
        "\n",
        "# make predictions on test set\n",
        "y_pred_sigmoid=sigmoid_svc.predict(X_test)\n",
        "\n",
        "\n",
        "# compute and print accuracy score\n",
        "print('Model accuracy score with sigmoid kernel and C=1.0 : {0:0.4f}'. format(accuracy_score(y_test, y_pred_sigmoid)))"
      ],
      "metadata": {
        "colab": {
          "base_uri": "https://localhost:8080/"
        },
        "id": "LgRALSe-eUTn",
        "outputId": "031ecb8f-2831-437e-e9e1-3035bb43fd0c"
      },
      "execution_count": 555,
      "outputs": [
        {
          "output_type": "stream",
          "name": "stdout",
          "text": [
            "Model accuracy score with sigmoid kernel and C=1.0 : 0.7532\n"
          ]
        }
      ]
    },
    {
      "cell_type": "markdown",
      "source": [],
      "metadata": {
        "id": "nqia1NjljWVB"
      }
    },
    {
      "cell_type": "markdown",
      "source": [
        "# **Confusion Matrix**"
      ],
      "metadata": {
        "id": "sgQmW-4vnnJF"
      }
    },
    {
      "cell_type": "code",
      "source": [
        "fig = plt.figure(figsize = (20,20))\n",
        "ax1 = fig.add_subplot(2, 2, 1) # row, column, position\n",
        "ax1.set_title('hyperparameter')\n",
        "\n",
        "ax2 = fig.add_subplot(2, 2, 2)\n",
        "ax2.set_title('linier')\n",
        "\n",
        "ax3 = fig.add_subplot(2, 2, 3)\n",
        "ax3.set_title('poly')\n",
        "\n",
        "ax4 = fig.add_subplot(2, 2, 4)\n",
        "ax4.set_title('sigmoid')\n",
        "\n",
        "print(\"===================== HyperParameter ===================== \")\n",
        "cm_hyperparameter = confusion_matrix(y_test, y_pred_hyperparameter)\n",
        "\n",
        "print('Confusion matrix\\n\\n', cm_hyperparameter)\n",
        "\n",
        "print('\\nTrue Positives(TP) = ', cm_hyperparameter[0,0])\n",
        "\n",
        "print('\\nTrue Negatives(TN) = ', cm_hyperparameter[1,1])\n",
        "\n",
        "print('\\nFalse Positives(FP) = ', cm_hyperparameter[0,1])\n",
        "\n",
        "print('\\nFalse Negatives(FN) = ', cm_hyperparameter[1,0])\n",
        "# visualize confusion matrix with seaborn heatmap\n",
        "cm_matrix_hyperparameter = pd.DataFrame(data=cm_hyperparameter, columns=['Actual Positive:1', 'Actual Negative:0'],\n",
        "                                 index=['Predict Positive:1', 'Predict Negative:0'])\n",
        "\n",
        "sns.heatmap(cm_matrix_hyperparameter, ax=ax1, annot=True, fmt='d', cmap='YlGnBu')\n",
        "print(\"===================== Linier ===================== \")\n",
        "cm_linier = confusion_matrix(y_test, y_pred_linier)\n",
        "\n",
        "print('Confusion matrix\\n\\n', cm_linier)\n",
        "\n",
        "print('\\nTrue Positives(TP) = ', cm_linier[0,0])\n",
        "\n",
        "print('\\nTrue Negatives(TN) = ', cm_linier[1,1])\n",
        "\n",
        "print('\\nFalse Positives(FP) = ', cm_linier[0,1])\n",
        "\n",
        "print('\\nFalse Negatives(FN) = ', cm_linier[1,0])\n",
        "\n",
        "# visualize confusion matrix with seaborn heatmap\n",
        "cm_matrix_linier = pd.DataFrame(data=cm_linier, columns=['Actual Positive:1', 'Actual Negative:0'],\n",
        "                                 index=['Predict Positive:1', 'Predict Negative:0'])\n",
        "\n",
        "sns.heatmap(cm_matrix_linier, ax=ax2, annot=True, fmt='d', cmap='YlGnBu')\n",
        "print(\"===================== Polynomial ===================== \")\n",
        "cm_poly = confusion_matrix(y_test, y_pred_poly)\n",
        "\n",
        "print('Confusion matrix\\n\\n', cm_poly)\n",
        "\n",
        "print('\\nTrue Positives(TP) = ', cm_poly[0,0])\n",
        "\n",
        "print('\\nTrue Negatives(TN) = ', cm_poly[1,1])\n",
        "\n",
        "print('\\nFalse Positives(FP) = ', cm_poly[0,1])\n",
        "\n",
        "print('\\nFalse Negatives(FN) = ', cm_poly[1,0])\n",
        "# visualize confusion matrix with seaborn heatmap\n",
        "cm_matrix_poly = pd.DataFrame(data=cm_poly, columns=['Actual Positive:1', 'Actual Negative:0'],\n",
        "                                 index=['Predict Positive:1', 'Predict Negative:0'])\n",
        "\n",
        "sns.heatmap(cm_matrix_poly, ax=ax3, annot=True, fmt='d', cmap='YlGnBu')\n",
        "print(\"===================== Sigmoid ===================== \")\n",
        "cm_sigmoid = confusion_matrix(y_test, y_pred_sigmoid)\n",
        "\n",
        "print('Confusion matrix\\n\\n', cm_sigmoid)\n",
        "\n",
        "print('\\nTrue Positives(TP) = ', cm_sigmoid[0,0])\n",
        "\n",
        "print('\\nTrue Negatives(TN) = ', cm_sigmoid[1,1])\n",
        "\n",
        "print('\\nFalse Positives(FP) = ', cm_sigmoid[0,1])\n",
        "\n",
        "print('\\nFalse Negatives(FN) = ', cm_sigmoid[1,0])\n",
        "cm_matrix_sigmoid = pd.DataFrame(data=cm_sigmoid, columns=['Actual Positive:1', 'Actual Negative:0'],\n",
        "                                 index=['Predict Positive:1', 'Predict Negative:0'])\n",
        "\n",
        "sns.heatmap(cm_matrix_sigmoid, ax=ax4, annot=True, fmt='d', cmap='YlGnBu')"
      ],
      "metadata": {
        "colab": {
          "base_uri": "https://localhost:8080/",
          "height": 1000
        },
        "id": "DW_-jL11no4f",
        "outputId": "b63a2530-afeb-4c96-b25d-16c5c27ca1cf"
      },
      "execution_count": 561,
      "outputs": [
        {
          "output_type": "stream",
          "name": "stdout",
          "text": [
            "===================== HyperParameter ===================== \n",
            "Confusion matrix\n",
            "\n",
            " [[87 13]\n",
            " [21 33]]\n",
            "\n",
            "True Positives(TP) =  87\n",
            "\n",
            "True Negatives(TN) =  33\n",
            "\n",
            "False Positives(FP) =  13\n",
            "\n",
            "False Negatives(FN) =  21\n",
            "===================== Linier ===================== \n",
            "Confusion matrix\n",
            "\n",
            " [[89 11]\n",
            " [23 31]]\n",
            "\n",
            "True Positives(TP) =  89\n",
            "\n",
            "True Negatives(TN) =  31\n",
            "\n",
            "False Positives(FP) =  11\n",
            "\n",
            "False Negatives(FN) =  23\n",
            "===================== Polynomial ===================== \n",
            "Confusion matrix\n",
            "\n",
            " [[87 13]\n",
            " [22 32]]\n",
            "\n",
            "True Positives(TP) =  87\n",
            "\n",
            "True Negatives(TN) =  32\n",
            "\n",
            "False Positives(FP) =  13\n",
            "\n",
            "False Negatives(FN) =  22\n",
            "===================== Sigmoid ===================== \n",
            "Confusion matrix\n",
            "\n",
            " [[80 20]\n",
            " [18 36]]\n",
            "\n",
            "True Positives(TP) =  80\n",
            "\n",
            "True Negatives(TN) =  36\n",
            "\n",
            "False Positives(FP) =  20\n",
            "\n",
            "False Negatives(FN) =  18\n"
          ]
        },
        {
          "output_type": "execute_result",
          "data": {
            "text/plain": [
              "<Axes: title={'center': 'sigmoid'}>"
            ]
          },
          "metadata": {},
          "execution_count": 561
        },
        {
          "output_type": "display_data",
          "data": {
            "text/plain": [
              "<Figure size 2000x2000 with 8 Axes>"
            ],
            "image/png": "[encoded data removed]"
          },
          "metadata": {}
        }
      ]
    },
    {
      "cell_type": "markdown",
      "source": [],
      "metadata": {
        "id": "x-F0p0ozoEcD"
      }
    },
    {
      "cell_type": "markdown",
      "source": [
        "# **Classification Report**"
      ],
      "metadata": {
        "id": "xVIT1DHdnB1S"
      }
    },
    {
      "cell_type": "code",
      "source": [
        "print(\"===================== HyperParameter ===================== \")\n",
        "print(classification_report(y_test, y_pred_hyperparameter))\n",
        "print(\"===================== Linier ===================== \")\n",
        "print(classification_report(y_test, y_pred_linier))\n",
        "print(\"===================== Polynomial ===================== \")\n",
        "print(classification_report(y_test, y_pred_poly))\n",
        "print(\"===================== Sigmoid ===================== \")\n",
        "print(classification_report(y_test, y_pred_sigmoid))"
      ],
      "metadata": {
        "colab": {
          "base_uri": "https://localhost:8080/"
        },
        "id": "n_PVESuVnDpl",
        "outputId": "d612d0c4-1f0b-434d-ad54-cedc82a8b980"
      },
      "execution_count": 562,
      "outputs": [
        {
          "output_type": "stream",
          "name": "stdout",
          "text": [
            "===================== HyperParameter ===================== \n",
            "              precision    recall  f1-score   support\n",
            "\n",
            "           0       0.81      0.87      0.84       100\n",
            "           1       0.72      0.61      0.66        54\n",
            "\n",
            "    accuracy                           0.78       154\n",
            "   macro avg       0.76      0.74      0.75       154\n",
            "weighted avg       0.77      0.78      0.77       154\n",
            "\n",
            "===================== Linier ===================== \n",
            "              precision    recall  f1-score   support\n",
            "\n",
            "           0       0.79      0.89      0.84       100\n",
            "           1       0.74      0.57      0.65        54\n",
            "\n",
            "    accuracy                           0.78       154\n",
            "   macro avg       0.77      0.73      0.74       154\n",
            "weighted avg       0.77      0.78      0.77       154\n",
            "\n",
            "===================== Polynomial ===================== \n",
            "              precision    recall  f1-score   support\n",
            "\n",
            "           0       0.80      0.87      0.83       100\n",
            "           1       0.71      0.59      0.65        54\n",
            "\n",
            "    accuracy                           0.77       154\n",
            "   macro avg       0.75      0.73      0.74       154\n",
            "weighted avg       0.77      0.77      0.77       154\n",
            "\n",
            "===================== Sigmoid ===================== \n",
            "              precision    recall  f1-score   support\n",
            "\n",
            "           0       0.82      0.80      0.81       100\n",
            "           1       0.64      0.67      0.65        54\n",
            "\n",
            "    accuracy                           0.75       154\n",
            "   macro avg       0.73      0.73      0.73       154\n",
            "weighted avg       0.76      0.75      0.75       154\n",
            "\n"
          ]
        }
      ]
    },
    {
      "cell_type": "markdown",
      "source": [
        "# **Classification Accuracy and Error**"
      ],
      "metadata": {
        "id": "Q4JEqHOHoiwe"
      }
    },
    {
      "cell_type": "code",
      "source": [
        "print(\"===================== HyperParameter ===================== \")\n",
        "TP_hyperparameter = cm_hyperparameter[0,0]\n",
        "TN_hyperparameter = cm_hyperparameter[1,1]\n",
        "FP_hyperparameter = cm_hyperparameter[0,1]\n",
        "FN_hyperparameter = cm_hyperparameter[1,0]\n",
        "\n",
        "# print classification accuracy\n",
        "classification_accuracy_hyperparameter = (TP_hyperparameter + TN_hyperparameter) / float(TP_hyperparameter + TN_hyperparameter + FP_hyperparameter + FN_hyperparameter)\n",
        "\n",
        "print('Classification accuracy hyperparameter : {0:0.4f}'.format(classification_accuracy_hyperparameter))\n",
        "\n",
        "# print classification error\n",
        "classification_error_hyperparameter = (FP_hyperparameter + FN_hyperparameter) / float(TP_hyperparameter + TN_hyperparameter + FP_hyperparameter + FN_hyperparameter)\n",
        "print('Classification error hyperparameter : {0:0.4f}'.format(classification_error_hyperparameter))\n",
        "\n",
        "print(\"===================== Linier ===================== \")\n",
        "TP_linier = cm_linier[0,0]\n",
        "TN_linier = cm_linier[1,1]\n",
        "FP_linier = cm_linier[0,1]\n",
        "FN_linier = cm_linier[1,0]\n",
        "\n",
        "# print classification accuracy\n",
        "classification_accuracy_linier = (TP_linier + TN_linier) / float(TP_linier + TN_linier + FP_linier + FN_linier)\n",
        "print('Classification accuracy linier : {0:0.4f}'.format(classification_accuracy_linier))\n",
        "\n",
        "# print classification error\n",
        "classification_error_linier = (FP_linier + FN_linier) / float(TP_linier + TN_linier + FP_linier + FN_linier)\n",
        "print('Classification error linier : {0:0.4f}'.format(classification_error_linier))\n",
        "print(\"===================== Polynomial ===================== \")\n",
        "TP_poly = cm_poly[0,0]\n",
        "TN_poly = cm_poly[1,1]\n",
        "FP_poly = cm_poly[0,1]\n",
        "FN_poly = cm_poly[1,0]\n",
        "\n",
        "# print classification accuracy\n",
        "classification_accuracy_poly = (TP_poly + TN_poly) / float(TP_poly + TN_poly + FP_poly + FN_poly)\n",
        "\n",
        "print('Classification accuracy poly : {0:0.4f}'.format(classification_accuracy_poly))\n",
        "\n",
        "# print classification error\n",
        "classification_error_poly = (FP_poly + FN_poly) / float(TP_poly + TN_poly + FP_poly + FN_poly)\n",
        "print('Classification error poly : {0:0.4f}'.format(classification_error_poly))\n",
        "\n",
        "print(\"===================== Sigmoid ===================== \")\n",
        "TP_sigmoid = cm_sigmoid[0,0]\n",
        "TN_sigmoid = cm_sigmoid[1,1]\n",
        "FP_sigmoid = cm_sigmoid[0,1]\n",
        "FN_sigmoid = cm_sigmoid[1,0]\n",
        "\n",
        "# print classification accuracy\n",
        "classification_accuracy_sigmoid = (TP_sigmoid + TN_sigmoid) / float(TP_sigmoid + TN_sigmoid + FP_sigmoid + FN_sigmoid)\n",
        "\n",
        "print('Classification accuracy poly : {0:0.4f}'.format(classification_accuracy_poly))\n",
        "\n",
        "# print classification error\n",
        "classification_error_sigmoid = (FP_sigmoid + FN_sigmoid) / float(TP_sigmoid + TN_sigmoid + FP_sigmoid + FN_sigmoid)\n",
        "print('Classification error poly : {0:0.4f}'.format(classification_error_sigmoid))\n"
      ],
      "metadata": {
        "colab": {
          "base_uri": "https://localhost:8080/"
        },
        "id": "6n0ReojwolV1",
        "outputId": "624c4b04-8b66-4f1e-81a7-1717a71cad9a"
      },
      "execution_count": 563,
      "outputs": [
        {
          "output_type": "stream",
          "name": "stdout",
          "text": [
            "===================== HyperParameter ===================== \n",
            "Classification accuracy hyperparameter : 0.7792\n",
            "Classification error hyperparameter : 0.2208\n",
            "===================== Linier ===================== \n",
            "Classification accuracy linier : 0.7792\n",
            "Classification error linier : 0.2208\n",
            "===================== Polynomial ===================== \n",
            "Classification accuracy poly : 0.7727\n",
            "Classification error poly : 0.2273\n",
            "===================== Sigmoid ===================== \n",
            "Classification accuracy poly : 0.7727\n",
            "Classification error poly : 0.2468\n"
          ]
        }
      ]
    },
    {
      "cell_type": "markdown",
      "source": [],
      "metadata": {
        "id": "z9x5lV-wjuBc"
      }
    }
  ]
}
